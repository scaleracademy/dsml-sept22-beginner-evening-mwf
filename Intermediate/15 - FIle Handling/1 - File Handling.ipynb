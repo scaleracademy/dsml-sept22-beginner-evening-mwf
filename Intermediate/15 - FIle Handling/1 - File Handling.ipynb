{
 "cells": [
  {
   "cell_type": "markdown",
   "id": "e57fa710",
   "metadata": {},
   "source": [
    "# <center>Working with Files</center>"
   ]
  },
  {
   "cell_type": "markdown",
   "id": "7bf9ead2",
   "metadata": {},
   "source": [
    "## File Access Modes\n",
    "\n",
    ">Access modes govern the type of operations possible in the opened file. It refers to how the file will be used once its opened. These modes also define the location of the File Handle in the file. File handle is like a cursor, which defines from where the data has to be read or written in the file. There are 6 access modes in python.\n",
    "\n",
    "- **Read Only (‘r’)** : Open text file for reading. The handle is positioned at the beginning of the file. If the file does not exists, raises I/O error. This is also the default mode in which file is opened.\n",
    "\n",
    "\n",
    "- **Read and Write (‘r+’)** : Open the file for reading and writing. The handle is positioned at the beginning of the file. Raises I/O error if the file does not exists.\n",
    "\n",
    "\n",
    "- **Write Only (‘w’)** : Open the file for writing. For existing file, the data is truncated and over-written. The handle is positioned at the beginning of the file. Creates the file if the file does not exists.\n",
    "\n",
    "\n",
    "- **Write and Read (‘w+’)** : Open the file for reading and writing. For existing file, data is truncated and over-written. The handle is positioned at the beginning of the file.\n",
    "\n",
    "\n",
    "- **Append Only (‘a’)** : Open the file for writing. The file is created if it does not exist. The handle is positioned at the end of the file. The data being written will be inserted at the end, after the existing data.\n",
    "\n",
    "\n",
    "- **Append and Read (‘a+’)** : Open the file for reading and writing. The file is created if it does not exist. The handle is positioned at the end of the file. The data being written will be inserted at the end, after the existing data."
   ]
  },
  {
   "cell_type": "code",
   "execution_count": 1,
   "id": "f90d894e",
   "metadata": {},
   "outputs": [],
   "source": [
    "# help(print)"
   ]
  },
  {
   "cell_type": "markdown",
   "id": "52edf9b6",
   "metadata": {},
   "source": [
    "### Opening a file"
   ]
  },
  {
   "cell_type": "code",
   "execution_count": 2,
   "id": "b6263195",
   "metadata": {},
   "outputs": [
    {
     "ename": "FileNotFoundError",
     "evalue": "[Errno 2] No such file or directory: 'sample.txt'",
     "output_type": "error",
     "traceback": [
      "\u001b[0;31m---------------------------------------------------------------------------\u001b[0m",
      "\u001b[0;31mFileNotFoundError\u001b[0m                         Traceback (most recent call last)",
      "\u001b[0;32m/var/folders/nn/c52y0d3j0gq59dpsswchkt2r0000gn/T/ipykernel_18952/128628076.py\u001b[0m in \u001b[0;36m<module>\u001b[0;34m\u001b[0m\n\u001b[0;32m----> 1\u001b[0;31m \u001b[0mfile\u001b[0m \u001b[0;34m=\u001b[0m \u001b[0mopen\u001b[0m\u001b[0;34m(\u001b[0m\u001b[0;34m\"sample.txt\"\u001b[0m\u001b[0;34m,\u001b[0m \u001b[0;34m\"r+\"\u001b[0m\u001b[0;34m)\u001b[0m\u001b[0;34m\u001b[0m\u001b[0;34m\u001b[0m\u001b[0m\n\u001b[0m",
      "\u001b[0;31mFileNotFoundError\u001b[0m: [Errno 2] No such file or directory: 'sample.txt'"
     ]
    }
   ],
   "source": [
    "file = open(\"sample.txt\", \"r+\")"
   ]
  },
  {
   "cell_type": "code",
   "execution_count": 3,
   "id": "8bdd113f",
   "metadata": {},
   "outputs": [],
   "source": [
    "file = open(\"sample.txt\", \"w+\")"
   ]
  },
  {
   "cell_type": "code",
   "execution_count": 5,
   "id": "f6d544ca",
   "metadata": {},
   "outputs": [
    {
     "data": {
      "text/plain": [
       "_io.TextIOWrapper"
      ]
     },
     "execution_count": 5,
     "metadata": {},
     "output_type": "execute_result"
    }
   ],
   "source": [
    "type(file) # Text File Object"
   ]
  },
  {
   "cell_type": "code",
   "execution_count": 7,
   "id": "b55f3424",
   "metadata": {},
   "outputs": [],
   "source": [
    "file.close() # variable_name.close()"
   ]
  },
  {
   "cell_type": "code",
   "execution_count": 8,
   "id": "3726ff88",
   "metadata": {},
   "outputs": [],
   "source": [
    "file1 = open(\"sample.txt\", \"w+\")\n",
    "file2 = open(\"Sample2.txt\", \"w+\")"
   ]
  },
  {
   "cell_type": "code",
   "execution_count": 9,
   "id": "f76c8d6d",
   "metadata": {},
   "outputs": [],
   "source": [
    "file1.close()"
   ]
  },
  {
   "cell_type": "code",
   "execution_count": 10,
   "id": "47b0319e",
   "metadata": {},
   "outputs": [],
   "source": [
    "file2.close()"
   ]
  },
  {
   "cell_type": "code",
   "execution_count": 11,
   "id": "2d75d142",
   "metadata": {},
   "outputs": [],
   "source": [
    "file = open(\"sample.txt\", \"w+\")"
   ]
  },
  {
   "cell_type": "code",
   "execution_count": 12,
   "id": "d5e31d92",
   "metadata": {},
   "outputs": [
    {
     "data": {
      "text/plain": [
       "140"
      ]
     },
     "execution_count": 12,
     "metadata": {},
     "output_type": "execute_result"
    }
   ],
   "source": [
    "file.write(\"Hello everyone. This is a random string what I am writing to this file. This string has no length limit and yes I can only write one string.\")"
   ]
  },
  {
   "cell_type": "code",
   "execution_count": 14,
   "id": "dd9572ea",
   "metadata": {},
   "outputs": [],
   "source": [
    "file.close() # f strings are allowed"
   ]
  },
  {
   "cell_type": "code",
   "execution_count": 15,
   "id": "4443bc8a",
   "metadata": {},
   "outputs": [],
   "source": [
    "file = open(\"sample2.txt\", \"w+\")"
   ]
  },
  {
   "cell_type": "code",
   "execution_count": 16,
   "id": "e698e169",
   "metadata": {},
   "outputs": [],
   "source": [
    "file.writelines([\"Line 1\\n\", \"Line 2\\n\", \"Line 3\\n\"])"
   ]
  },
  {
   "cell_type": "code",
   "execution_count": 17,
   "id": "a3db269c",
   "metadata": {},
   "outputs": [],
   "source": [
    "file.close()"
   ]
  },
  {
   "cell_type": "markdown",
   "id": "5d4f6dfe",
   "metadata": {},
   "source": [
    "### Writing to a file\n",
    "\n",
    "- write\n",
    "- writelines\n",
    "\n",
    "DONE ABOVE ^"
   ]
  },
  {
   "cell_type": "markdown",
   "id": "9dca9eb1",
   "metadata": {},
   "source": [
    "### Reading from a file\n",
    "- read\n",
    "- readline\n",
    "- readlines"
   ]
  },
  {
   "cell_type": "code",
   "execution_count": 24,
   "id": "cda9e32a",
   "metadata": {},
   "outputs": [],
   "source": [
    "file = open(\"sample.txt\", \"r+\")"
   ]
  },
  {
   "cell_type": "code",
   "execution_count": 25,
   "id": "3ed874ea",
   "metadata": {},
   "outputs": [
    {
     "data": {
      "text/plain": [
       "'Hello everyone. This is a random string what I am writing to this file. This string has no length limit and yes I can only write one string.'"
      ]
     },
     "execution_count": 25,
     "metadata": {},
     "output_type": "execute_result"
    }
   ],
   "source": [
    "file.read() # reads all the content of a given file"
   ]
  },
  {
   "cell_type": "code",
   "execution_count": 26,
   "id": "482d85be",
   "metadata": {},
   "outputs": [
    {
     "data": {
      "text/plain": [
       "''"
      ]
     },
     "execution_count": 26,
     "metadata": {},
     "output_type": "execute_result"
    }
   ],
   "source": [
    "file.read()"
   ]
  },
  {
   "cell_type": "code",
   "execution_count": 27,
   "id": "66dd5dfc",
   "metadata": {},
   "outputs": [],
   "source": [
    "file.close()"
   ]
  },
  {
   "cell_type": "code",
   "execution_count": 28,
   "id": "8fdc1095",
   "metadata": {},
   "outputs": [],
   "source": [
    "file = open(\"sample2.txt\", \"r+\")"
   ]
  },
  {
   "cell_type": "code",
   "execution_count": 29,
   "id": "596f85b9",
   "metadata": {},
   "outputs": [
    {
     "data": {
      "text/plain": [
       "'Line 1\\nLine 2\\nLine 3\\n'"
      ]
     },
     "execution_count": 29,
     "metadata": {},
     "output_type": "execute_result"
    }
   ],
   "source": [
    "file.read()"
   ]
  },
  {
   "cell_type": "code",
   "execution_count": 30,
   "id": "5dbe22f9",
   "metadata": {},
   "outputs": [],
   "source": [
    "file.close()"
   ]
  },
  {
   "cell_type": "code",
   "execution_count": 31,
   "id": "104e2c87",
   "metadata": {},
   "outputs": [],
   "source": [
    "file = open(\"sample2.txt\", \"r+\")"
   ]
  },
  {
   "cell_type": "code",
   "execution_count": 32,
   "id": "c37624f2",
   "metadata": {},
   "outputs": [
    {
     "data": {
      "text/plain": [
       "'Line 1\\n'"
      ]
     },
     "execution_count": 32,
     "metadata": {},
     "output_type": "execute_result"
    }
   ],
   "source": [
    "file.readline()"
   ]
  },
  {
   "cell_type": "code",
   "execution_count": 33,
   "id": "1eb31a25",
   "metadata": {},
   "outputs": [
    {
     "data": {
      "text/plain": [
       "'Line 2\\n'"
      ]
     },
     "execution_count": 33,
     "metadata": {},
     "output_type": "execute_result"
    }
   ],
   "source": [
    "file.readline()"
   ]
  },
  {
   "cell_type": "code",
   "execution_count": 34,
   "id": "d1e75314",
   "metadata": {},
   "outputs": [
    {
     "data": {
      "text/plain": [
       "'Line 3\\n'"
      ]
     },
     "execution_count": 34,
     "metadata": {},
     "output_type": "execute_result"
    }
   ],
   "source": [
    "file.readline()"
   ]
  },
  {
   "cell_type": "code",
   "execution_count": 35,
   "id": "337ece15",
   "metadata": {},
   "outputs": [
    {
     "data": {
      "text/plain": [
       "''"
      ]
     },
     "execution_count": 35,
     "metadata": {},
     "output_type": "execute_result"
    }
   ],
   "source": [
    "file.readline()"
   ]
  },
  {
   "cell_type": "code",
   "execution_count": 36,
   "id": "bc062859",
   "metadata": {},
   "outputs": [],
   "source": [
    "file.close()"
   ]
  },
  {
   "cell_type": "code",
   "execution_count": 38,
   "id": "16292572",
   "metadata": {},
   "outputs": [],
   "source": [
    "file = open(\"sample.txt\", \"r+\")"
   ]
  },
  {
   "cell_type": "code",
   "execution_count": 39,
   "id": "ce7d0d46",
   "metadata": {},
   "outputs": [
    {
     "data": {
      "text/plain": [
       "'Hello everyone. This is a random string what I am writing to this file. This string has no length limit and yes I can only write one string.'"
      ]
     },
     "execution_count": 39,
     "metadata": {},
     "output_type": "execute_result"
    }
   ],
   "source": [
    "file.readline()"
   ]
  },
  {
   "cell_type": "code",
   "execution_count": 40,
   "id": "53ce136b",
   "metadata": {},
   "outputs": [],
   "source": [
    "file.close()"
   ]
  },
  {
   "cell_type": "code",
   "execution_count": 41,
   "id": "32d2bba9",
   "metadata": {},
   "outputs": [],
   "source": [
    "file = open(\"sample2.txt\", \"r+\")"
   ]
  },
  {
   "cell_type": "code",
   "execution_count": 42,
   "id": "5c51f9b8",
   "metadata": {},
   "outputs": [
    {
     "data": {
      "text/plain": [
       "['Line 1\\n', 'Line 2\\n', 'Line 3\\n']"
      ]
     },
     "execution_count": 42,
     "metadata": {},
     "output_type": "execute_result"
    }
   ],
   "source": [
    "file.readlines()"
   ]
  },
  {
   "cell_type": "code",
   "execution_count": 43,
   "id": "bf3c0b10",
   "metadata": {},
   "outputs": [],
   "source": [
    "file.close()"
   ]
  },
  {
   "cell_type": "code",
   "execution_count": 44,
   "id": "5cdc1785",
   "metadata": {},
   "outputs": [
    {
     "data": {
      "text/plain": [
       "'\\nLine 1\\nLine 2\\nLine 3\\n'"
      ]
     },
     "execution_count": 44,
     "metadata": {},
     "output_type": "execute_result"
    }
   ],
   "source": [
    "'''\n",
    "Line 1\n",
    "Line 2\n",
    "Line 3\n",
    "'''"
   ]
  },
  {
   "cell_type": "code",
   "execution_count": 45,
   "id": "63355842",
   "metadata": {},
   "outputs": [],
   "source": [
    "file = open(\"sample2.txt\", \"r+\")"
   ]
  },
  {
   "cell_type": "code",
   "execution_count": 46,
   "id": "693ef7cc",
   "metadata": {},
   "outputs": [
    {
     "name": "stdout",
     "output_type": "stream",
     "text": [
      "Line 1\n",
      "Line 2\n",
      "Line 3\n"
     ]
    }
   ],
   "source": [
    "for i in file.readlines():\n",
    "    print(i, end = \"\")"
   ]
  },
  {
   "cell_type": "code",
   "execution_count": 47,
   "id": "3d795c38",
   "metadata": {},
   "outputs": [],
   "source": [
    "file.close()"
   ]
  },
  {
   "cell_type": "code",
   "execution_count": 51,
   "id": "77d02a6d",
   "metadata": {},
   "outputs": [],
   "source": [
    "file = open(\"long_sample.txt\", \"w+\")"
   ]
  },
  {
   "cell_type": "code",
   "execution_count": 52,
   "id": "7272cc4b",
   "metadata": {},
   "outputs": [
    {
     "data": {
      "text/plain": [
       "771"
      ]
     },
     "execution_count": 52,
     "metadata": {},
     "output_type": "execute_result"
    }
   ],
   "source": [
    "file.write(\"Contrary to popular belief, Lorem Ipsum is not simply random text.\\n It has roots in a piece of classical Latin literature from 45 BC, making it over 2000\\n years old. Richard McClintock, a Latin professor at Hampden-Sydney College in\\n Virginia, looked up one of the more obscure Latin words, consectetur\\n, from a Lorem Ipsum passage, and going through the cites of the word in classical literature,\\n discovered the undoubtable source.\\n Lorem Ipsum comes from sections 1.10.32 and 1.10.33 of \\\"de Finibus Bonorum et Malorum\\\" (The Extremes of Good and Evil) by Cicero, written in 45 BC.\\n This book is a treatise on the theory of ethics, very popular during the Renaissance.\\n The first line of Lorem Ipsum, \\\"Lorem ipsum dolor sit amet..\\\", comes from a line in section 1.10.32.\")"
   ]
  },
  {
   "cell_type": "code",
   "execution_count": 53,
   "id": "b2c34844",
   "metadata": {},
   "outputs": [],
   "source": [
    "file.close()"
   ]
  },
  {
   "cell_type": "code",
   "execution_count": 62,
   "id": "b634af90",
   "metadata": {},
   "outputs": [],
   "source": [
    "file = open(\"long_sample.txt\", \"r+\")"
   ]
  },
  {
   "cell_type": "code",
   "execution_count": 63,
   "id": "71e90eba",
   "metadata": {},
   "outputs": [
    {
     "name": "stdout",
     "output_type": "stream",
     "text": [
      "Contrary to popular belief, Lorem Ipsum is not simply random text.\n",
      " It has roots in a piece of classical Latin literature from 45 BC, making it over 2000\n",
      " years old. Richard McClintock, a Latin professor at Hampden-Sydney College in\n",
      " Virginia, looked up one of the more obscure Latin words, consectetur\n",
      ", from a Lorem Ipsum passage, and going through the cites of the word in classical literature,\n",
      " discovered the undoubtable source.\n",
      " Lorem Ipsum comes from sections 1.10.32 and 1.10.33 of \"de Finibus Bonorum et Malorum\" (The Extremes of Good and Evil) by Cicero, written in 45 BC.\n",
      " This book is a treatise on the theory of ethics, very popular during the Renaissance.\n",
      " The first line of Lorem Ipsum, \"Lorem ipsum dolor sit amet..\", comes from a line in section 1.10.32."
     ]
    }
   ],
   "source": [
    "buffer = file.readline()\n",
    "\n",
    "while buffer:\n",
    "    print(buffer, end = \"\")\n",
    "    buffer = file.readline()"
   ]
  },
  {
   "cell_type": "code",
   "execution_count": 64,
   "id": "764c6c57",
   "metadata": {},
   "outputs": [],
   "source": [
    "file.close()"
   ]
  },
  {
   "cell_type": "code",
   "execution_count": 65,
   "id": "cc1783fc",
   "metadata": {},
   "outputs": [],
   "source": [
    "file = open(\"long_sample.txt\", \"r+\")"
   ]
  },
  {
   "cell_type": "code",
   "execution_count": 66,
   "id": "76d0f93a",
   "metadata": {},
   "outputs": [
    {
     "name": "stdout",
     "output_type": "stream",
     "text": [
      "Contrary to popular belief, Lorem Ipsum is not sim\n",
      "ply random text.\n",
      " It has roots in a piece of class\n",
      "ical Latin literature from 45 BC, making it over 2\n",
      "000\n",
      " years old. Richard McClintock, a Latin profes\n",
      "sor at Hampden-Sydney College in\n",
      " Virginia, looked\n",
      " up one of the more obscure Latin words, consectet\n",
      "ur\n",
      ", from a Lorem Ipsum passage, and going through\n",
      " the cites of the word in classical literature,\n",
      " d\n",
      "iscovered the undoubtable source.\n",
      " Lorem Ipsum com\n",
      "es from sections 1.10.32 and 1.10.33 of \"de Finibu\n",
      "s Bonorum et Malorum\" (The Extremes of Good and Ev\n",
      "il) by Cicero, written in 45 BC.\n",
      " This book is a t\n",
      "reatise on the theory of ethics, very popular duri\n",
      "ng the Renaissance.\n",
      " The first line of Lorem Ipsum\n",
      ", \"Lorem ipsum dolor sit amet..\", comes from a lin\n",
      "e in section 1.10.32.\n"
     ]
    }
   ],
   "source": [
    "while True:\n",
    "    chunk = file.read(50)\n",
    "    \n",
    "    if not chunk:\n",
    "        break\n",
    "        \n",
    "    print(chunk)"
   ]
  },
  {
   "cell_type": "code",
   "execution_count": 67,
   "id": "2c197e53",
   "metadata": {},
   "outputs": [],
   "source": [
    "file.close()"
   ]
  },
  {
   "cell_type": "markdown",
   "id": "68fce312",
   "metadata": {},
   "source": [
    "### Moving the cursor\n",
    "\n",
    "- seek(n) : takes the file read handle to the nth byte from the beginning."
   ]
  },
  {
   "cell_type": "code",
   "execution_count": 68,
   "id": "040f277c",
   "metadata": {},
   "outputs": [],
   "source": [
    "file = open(\"sample.txt\", \"r+\")"
   ]
  },
  {
   "cell_type": "code",
   "execution_count": 69,
   "id": "f4a50a73",
   "metadata": {},
   "outputs": [
    {
     "data": {
      "text/plain": [
       "'Hello everyone. This is a random string what I am writing to this file. This string has no length limit and yes I can only write one string.'"
      ]
     },
     "execution_count": 69,
     "metadata": {},
     "output_type": "execute_result"
    }
   ],
   "source": [
    "file.read()"
   ]
  },
  {
   "cell_type": "code",
   "execution_count": 70,
   "id": "9d676e93",
   "metadata": {},
   "outputs": [
    {
     "data": {
      "text/plain": [
       "''"
      ]
     },
     "execution_count": 70,
     "metadata": {},
     "output_type": "execute_result"
    }
   ],
   "source": [
    "file.read()"
   ]
  },
  {
   "cell_type": "code",
   "execution_count": 71,
   "id": "bcc7c2e8",
   "metadata": {},
   "outputs": [
    {
     "data": {
      "text/plain": [
       "0"
      ]
     },
     "execution_count": 71,
     "metadata": {},
     "output_type": "execute_result"
    }
   ],
   "source": [
    "file.seek(0)"
   ]
  },
  {
   "cell_type": "code",
   "execution_count": 72,
   "id": "da44ff6a",
   "metadata": {},
   "outputs": [
    {
     "data": {
      "text/plain": [
       "'Hello everyone. This is a random string what I am writing to this file. This string has no length limit and yes I can only write one string.'"
      ]
     },
     "execution_count": 72,
     "metadata": {},
     "output_type": "execute_result"
    }
   ],
   "source": [
    "file.read()"
   ]
  },
  {
   "cell_type": "code",
   "execution_count": 73,
   "id": "601d8739",
   "metadata": {},
   "outputs": [
    {
     "data": {
      "text/plain": [
       "5"
      ]
     },
     "execution_count": 73,
     "metadata": {},
     "output_type": "execute_result"
    }
   ],
   "source": [
    "file.seek(5)"
   ]
  },
  {
   "cell_type": "code",
   "execution_count": 74,
   "id": "539e4cd2",
   "metadata": {},
   "outputs": [
    {
     "data": {
      "text/plain": [
       "' everyone.'"
      ]
     },
     "execution_count": 74,
     "metadata": {},
     "output_type": "execute_result"
    }
   ],
   "source": [
    "file.read(10)"
   ]
  },
  {
   "cell_type": "code",
   "execution_count": 75,
   "id": "8d4a52c8",
   "metadata": {},
   "outputs": [
    {
     "data": {
      "text/plain": [
       "0"
      ]
     },
     "execution_count": 75,
     "metadata": {},
     "output_type": "execute_result"
    }
   ],
   "source": [
    "file.seek(0)"
   ]
  },
  {
   "cell_type": "code",
   "execution_count": 76,
   "id": "351dbc86",
   "metadata": {},
   "outputs": [
    {
     "data": {
      "text/plain": [
       "'Hello everyone. This is a random string what I am '"
      ]
     },
     "execution_count": 76,
     "metadata": {},
     "output_type": "execute_result"
    }
   ],
   "source": [
    "file.read(50)"
   ]
  },
  {
   "cell_type": "code",
   "execution_count": 77,
   "id": "8293139e",
   "metadata": {},
   "outputs": [
    {
     "ename": "ValueError",
     "evalue": "negative seek position -1",
     "output_type": "error",
     "traceback": [
      "\u001b[0;31m---------------------------------------------------------------------------\u001b[0m",
      "\u001b[0;31mValueError\u001b[0m                                Traceback (most recent call last)",
      "\u001b[0;32m/var/folders/nn/c52y0d3j0gq59dpsswchkt2r0000gn/T/ipykernel_18952/1505867907.py\u001b[0m in \u001b[0;36m<module>\u001b[0;34m\u001b[0m\n\u001b[0;32m----> 1\u001b[0;31m \u001b[0mfile\u001b[0m\u001b[0;34m.\u001b[0m\u001b[0mseek\u001b[0m\u001b[0;34m(\u001b[0m\u001b[0;34m-\u001b[0m\u001b[0;36m1\u001b[0m\u001b[0;34m)\u001b[0m\u001b[0;34m\u001b[0m\u001b[0;34m\u001b[0m\u001b[0m\n\u001b[0m",
      "\u001b[0;31mValueError\u001b[0m: negative seek position -1"
     ]
    }
   ],
   "source": [
    "file.seek(-1) "
   ]
  },
  {
   "cell_type": "code",
   "execution_count": 78,
   "id": "d5f25f00",
   "metadata": {},
   "outputs": [],
   "source": [
    "file.close()"
   ]
  },
  {
   "cell_type": "markdown",
   "id": "37a4180b",
   "metadata": {},
   "source": [
    "### Smarter way of opening files...\n",
    "\n",
    "With the \"with\" statement, you get better syntax and exceptions handling. \n",
    "\n",
    "\"The with statement simplifies exception handling by encapsulating common\n",
    "preparation and cleanup tasks.\"\n",
    "\n",
    "In addition, it will automatically close the file. The with statement provides\n",
    "a way for ensuring that a clean-up is always used.\n"
   ]
  },
  {
   "cell_type": "code",
   "execution_count": 80,
   "id": "84cb82e2",
   "metadata": {},
   "outputs": [
    {
     "name": "stdout",
     "output_type": "stream",
     "text": [
      "Hello ever\n",
      " everyone. This is a\n"
     ]
    }
   ],
   "source": [
    "with open(\"sample.txt\", \"r+\") as file:\n",
    "    print(file.read(10))\n",
    "    file.seek(5)\n",
    "    print(file.read(20))"
   ]
  },
  {
   "cell_type": "code",
   "execution_count": 81,
   "id": "b4684bf2",
   "metadata": {},
   "outputs": [],
   "source": [
    "file1 = open(\"sample.jpeg\", \"rb+\")"
   ]
  },
  {
   "cell_type": "code",
   "execution_count": 82,
   "id": "9b670c00",
   "metadata": {},
   "outputs": [],
   "source": [
    "file2 = open(\"sample_copy.jpeg\", \"wb+\")"
   ]
  },
  {
   "cell_type": "code",
   "execution_count": 83,
   "id": "07ecb651",
   "metadata": {},
   "outputs": [],
   "source": [
    "while True:\n",
    "    chunk = file1.read(50)\n",
    "    \n",
    "    if not chunk:\n",
    "        break\n",
    "        \n",
    "    file2.write(chunk)"
   ]
  },
  {
   "cell_type": "code",
   "execution_count": 85,
   "id": "a57cb5f6",
   "metadata": {},
   "outputs": [],
   "source": [
    "file1.close()"
   ]
  },
  {
   "cell_type": "code",
   "execution_count": 86,
   "id": "97f91cd3",
   "metadata": {},
   "outputs": [],
   "source": [
    "file2.close()"
   ]
  },
  {
   "cell_type": "code",
   "execution_count": null,
   "id": "a8d97c20",
   "metadata": {},
   "outputs": [],
   "source": []
  }
 ],
 "metadata": {
  "kernelspec": {
   "display_name": "Python 3 (ipykernel)",
   "language": "python",
   "name": "python3"
  },
  "language_info": {
   "codemirror_mode": {
    "name": "ipython",
    "version": 3
   },
   "file_extension": ".py",
   "mimetype": "text/x-python",
   "name": "python",
   "nbconvert_exporter": "python",
   "pygments_lexer": "ipython3",
   "version": "3.9.5"
  }
 },
 "nbformat": 4,
 "nbformat_minor": 5
}
