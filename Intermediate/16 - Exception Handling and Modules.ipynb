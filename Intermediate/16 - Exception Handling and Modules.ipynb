{
 "cells": [
  {
   "cell_type": "code",
   "execution_count": 1,
   "id": "38491c15",
   "metadata": {},
   "outputs": [
    {
     "ename": "NameError",
     "evalue": "name 'a' is not defined",
     "output_type": "error",
     "traceback": [
      "\u001b[0;31m---------------------------------------------------------------------------\u001b[0m",
      "\u001b[0;31mNameError\u001b[0m                                 Traceback (most recent call last)",
      "\u001b[0;32m/var/folders/nn/c52y0d3j0gq59dpsswchkt2r0000gn/T/ipykernel_28880/1189138062.py\u001b[0m in \u001b[0;36m<module>\u001b[0;34m\u001b[0m\n\u001b[0;32m----> 1\u001b[0;31m \u001b[0mprint\u001b[0m\u001b[0;34m(\u001b[0m\u001b[0ma\u001b[0m\u001b[0;34m)\u001b[0m\u001b[0;34m\u001b[0m\u001b[0;34m\u001b[0m\u001b[0m\n\u001b[0m",
      "\u001b[0;31mNameError\u001b[0m: name 'a' is not defined"
     ]
    }
   ],
   "source": [
    "print(a)"
   ]
  },
  {
   "cell_type": "code",
   "execution_count": 2,
   "id": "bfa7b446",
   "metadata": {},
   "outputs": [
    {
     "ename": "IndentationError",
     "evalue": "expected an indented block (3488320332.py, line 1)",
     "output_type": "error",
     "traceback": [
      "\u001b[0;36m  File \u001b[0;32m\"/var/folders/nn/c52y0d3j0gq59dpsswchkt2r0000gn/T/ipykernel_28880/3488320332.py\"\u001b[0;36m, line \u001b[0;32m1\u001b[0m\n\u001b[0;31m    if 57 > 63:\u001b[0m\n\u001b[0m               ^\u001b[0m\n\u001b[0;31mIndentationError\u001b[0m\u001b[0;31m:\u001b[0m expected an indented block\n"
     ]
    }
   ],
   "source": [
    "if 57 > 63:"
   ]
  },
  {
   "cell_type": "code",
   "execution_count": 3,
   "id": "b68fe683",
   "metadata": {},
   "outputs": [
    {
     "ename": "ZeroDivisionError",
     "evalue": "division by zero",
     "output_type": "error",
     "traceback": [
      "\u001b[0;31m---------------------------------------------------------------------------\u001b[0m",
      "\u001b[0;31mZeroDivisionError\u001b[0m                         Traceback (most recent call last)",
      "\u001b[0;32m/var/folders/nn/c52y0d3j0gq59dpsswchkt2r0000gn/T/ipykernel_28880/658198492.py\u001b[0m in \u001b[0;36m<module>\u001b[0;34m\u001b[0m\n\u001b[0;32m----> 1\u001b[0;31m \u001b[0;36m56\u001b[0m \u001b[0;34m/\u001b[0m \u001b[0;36m0\u001b[0m\u001b[0;34m\u001b[0m\u001b[0;34m\u001b[0m\u001b[0m\n\u001b[0m",
      "\u001b[0;31mZeroDivisionError\u001b[0m: division by zero"
     ]
    }
   ],
   "source": [
    "56 / 0"
   ]
  },
  {
   "cell_type": "code",
   "execution_count": 4,
   "id": "257c1ecf",
   "metadata": {},
   "outputs": [
    {
     "ename": "AttributeError",
     "evalue": "'str' object has no attribute 'sort'",
     "output_type": "error",
     "traceback": [
      "\u001b[0;31m---------------------------------------------------------------------------\u001b[0m",
      "\u001b[0;31mAttributeError\u001b[0m                            Traceback (most recent call last)",
      "\u001b[0;32m/var/folders/nn/c52y0d3j0gq59dpsswchkt2r0000gn/T/ipykernel_28880/2082792431.py\u001b[0m in \u001b[0;36m<module>\u001b[0;34m\u001b[0m\n\u001b[0;32m----> 1\u001b[0;31m \u001b[0;34m\"random string\"\u001b[0m\u001b[0;34m.\u001b[0m\u001b[0msort\u001b[0m\u001b[0;34m(\u001b[0m\u001b[0;34m)\u001b[0m\u001b[0;34m\u001b[0m\u001b[0;34m\u001b[0m\u001b[0m\n\u001b[0m",
      "\u001b[0;31mAttributeError\u001b[0m: 'str' object has no attribute 'sort'"
     ]
    }
   ],
   "source": [
    "\"random string\".sort()"
   ]
  },
  {
   "cell_type": "code",
   "execution_count": 7,
   "id": "11e0d518",
   "metadata": {},
   "outputs": [
    {
     "name": "stdout",
     "output_type": "stream",
     "text": [
      "ArithmeticError\n",
      "AssertionError\n",
      "AttributeError\n",
      "BlockingIOError\n",
      "BrokenPipeError\n",
      "BufferError\n",
      "ChildProcessError\n",
      "ConnectionAbortedError\n",
      "ConnectionError\n",
      "ConnectionRefusedError\n",
      "ConnectionResetError\n",
      "EOFError\n",
      "EnvironmentError\n",
      "FileExistsError\n",
      "FileNotFoundError\n",
      "FloatingPointError\n",
      "IOError\n",
      "ImportError\n",
      "IndentationError\n",
      "IndexError\n",
      "InterruptedError\n",
      "IsADirectoryError\n",
      "KeyError\n",
      "LookupError\n",
      "MemoryError\n",
      "ModuleNotFoundError\n",
      "NameError\n",
      "NotADirectoryError\n",
      "NotImplementedError\n",
      "OSError\n",
      "OverflowError\n",
      "PermissionError\n",
      "ProcessLookupError\n",
      "RecursionError\n",
      "ReferenceError\n",
      "RuntimeError\n",
      "SyntaxError\n",
      "SystemError\n",
      "TabError\n",
      "TimeoutError\n",
      "TypeError\n",
      "UnboundLocalError\n",
      "UnicodeDecodeError\n",
      "UnicodeEncodeError\n",
      "UnicodeError\n",
      "UnicodeTranslateError\n",
      "ValueError\n",
      "ZeroDivisionError\n",
      "48\n"
     ]
    }
   ],
   "source": [
    "count = 0\n",
    "for i in dir(__builtins__):\n",
    "    if \"Error\" in i:\n",
    "        count += 1\n",
    "        print(i)\n",
    "        \n",
    "print(count)"
   ]
  },
  {
   "cell_type": "code",
   "execution_count": 8,
   "id": "520b8ed3",
   "metadata": {},
   "outputs": [
    {
     "ename": "ZeroDivisionError",
     "evalue": "division by zero",
     "output_type": "error",
     "traceback": [
      "\u001b[0;31m---------------------------------------------------------------------------\u001b[0m",
      "\u001b[0;31mZeroDivisionError\u001b[0m                         Traceback (most recent call last)",
      "\u001b[0;32m/var/folders/nn/c52y0d3j0gq59dpsswchkt2r0000gn/T/ipykernel_28880/2976255393.py\u001b[0m in \u001b[0;36m<module>\u001b[0;34m\u001b[0m\n\u001b[0;32m----> 1\u001b[0;31m \u001b[0;36m48\u001b[0m \u001b[0;34m/\u001b[0m \u001b[0;36m0\u001b[0m\u001b[0;34m\u001b[0m\u001b[0;34m\u001b[0m\u001b[0m\n\u001b[0m\u001b[1;32m      2\u001b[0m \u001b[0mprint\u001b[0m\u001b[0;34m(\u001b[0m\u001b[0;34m\"WOW!\"\u001b[0m\u001b[0;34m)\u001b[0m\u001b[0;34m\u001b[0m\u001b[0;34m\u001b[0m\u001b[0m\n",
      "\u001b[0;31mZeroDivisionError\u001b[0m: division by zero"
     ]
    }
   ],
   "source": [
    "48 / 0\n",
    "print(\"WOW!\")"
   ]
  },
  {
   "cell_type": "code",
   "execution_count": 14,
   "id": "a230893e",
   "metadata": {},
   "outputs": [
    {
     "name": "stdout",
     "output_type": "stream",
     "text": [
      "0\n",
      "An error occured!\n",
      "I AM OUTSIDE\n"
     ]
    }
   ],
   "source": [
    "try:\n",
    "    i = int(input())\n",
    "    print(5 / i)\n",
    "    print(\"Result Printed!\")\n",
    "except:\n",
    "    print(\"An error occured!\")\n",
    "    \n",
    "    \n",
    "print(\"I AM OUTSIDE\")"
   ]
  },
  {
   "cell_type": "code",
   "execution_count": 17,
   "id": "993cbafd",
   "metadata": {},
   "outputs": [
    {
     "name": "stdout",
     "output_type": "stream",
     "text": [
      "6\n",
      "Error - unsupported operand type(s) for /: 'int' and 'str'\n"
     ]
    }
   ],
   "source": [
    "try:\n",
    "    i = input()\n",
    "    print(5 / i)\n",
    "    print(\"Result Printed!\")\n",
    "except Exception as e:\n",
    "    print(f\"Error - {e}\")"
   ]
  },
  {
   "cell_type": "code",
   "execution_count": 18,
   "id": "846b0755",
   "metadata": {},
   "outputs": [
    {
     "name": "stdout",
     "output_type": "stream",
     "text": [
      "Current element - 2\n",
      "Result - 2.5\n",
      "--------------------\n",
      "Current element - 0\n",
      "Error - division by zero\n",
      "--------------------\n",
      "Current element - hello\n",
      "Error - invalid literal for int() with base 10: 'hello'\n",
      "--------------------\n",
      "Current element - None\n",
      "Error - int() argument must be a string, a bytes-like object or a number, not 'NoneType'\n",
      "--------------------\n"
     ]
    }
   ],
   "source": [
    "l = [2, 0, \"hello\", None]\n",
    "\n",
    "for element in l:\n",
    "    try:\n",
    "        print(f\"Current element - {element}\")\n",
    "        result = 5 / int(element)\n",
    "        print(f\"Result - {result}\")\n",
    "    except Exception as e:\n",
    "        print(f\"Error - {e}\")\n",
    "        \n",
    "    print(\"-\"*20)"
   ]
  },
  {
   "cell_type": "code",
   "execution_count": 20,
   "id": "470eb5cf",
   "metadata": {},
   "outputs": [
    {
     "name": "stdout",
     "output_type": "stream",
     "text": [
      "Current element - 2\n",
      "Result - 2.5\n",
      "--------------------\n",
      "Current element - 0\n",
      "A ZERO DIVISION ERROR OCCURED!\n",
      "--------------------\n",
      "Current element - hello\n",
      "Error - invalid literal for int() with base 10: 'hello'\n",
      "--------------------\n",
      "Current element - None\n",
      "Error - int() argument must be a string, a bytes-like object or a number, not 'NoneType'\n",
      "--------------------\n"
     ]
    }
   ],
   "source": [
    "l = [2, 0, \"hello\", None]\n",
    "\n",
    "for element in l:\n",
    "    try:\n",
    "        print(f\"Current element - {element}\")\n",
    "        result = 5 / int(element)\n",
    "        print(f\"Result - {result}\")\n",
    "    except ZeroDivisionError as z:\n",
    "        print(\"A ZERO DIVISION ERROR OCCURED!\")\n",
    "    except Exception as e:\n",
    "        print(f\"Error - {e}\")\n",
    "        \n",
    "    print(\"-\"*20)"
   ]
  },
  {
   "cell_type": "code",
   "execution_count": 24,
   "id": "f3405339",
   "metadata": {},
   "outputs": [
    {
     "name": "stdout",
     "output_type": "stream",
     "text": [
      "5\n",
      "Try\n",
      "Else\n",
      "Finally\n"
     ]
    }
   ],
   "source": [
    "try:\n",
    "    i = int(input())\n",
    "    print(\"Try\")\n",
    "except:\n",
    "    print(\"Except\") # Runs if error occurs inside try block\n",
    "else:\n",
    "    print(\"Else\") # Runs if an error does not occur inside try block\n",
    "finally:\n",
    "    print(\"Finally\") # Always runs"
   ]
  },
  {
   "cell_type": "code",
   "execution_count": 25,
   "id": "c1171d82",
   "metadata": {},
   "outputs": [],
   "source": [
    "# HOMEWORK\n",
    "# What is the use case of finally?"
   ]
  },
  {
   "cell_type": "code",
   "execution_count": 27,
   "id": "ba05277b",
   "metadata": {},
   "outputs": [],
   "source": [
    "import math"
   ]
  },
  {
   "cell_type": "code",
   "execution_count": 28,
   "id": "b895b77c",
   "metadata": {},
   "outputs": [
    {
     "data": {
      "text/plain": [
       "3.1622776601683795"
      ]
     },
     "execution_count": 28,
     "metadata": {},
     "output_type": "execute_result"
    }
   ],
   "source": [
    "math.sqrt(10)"
   ]
  },
  {
   "cell_type": "code",
   "execution_count": 29,
   "id": "d7d24111",
   "metadata": {},
   "outputs": [
    {
     "data": {
      "text/plain": [
       "3628800"
      ]
     },
     "execution_count": 29,
     "metadata": {},
     "output_type": "execute_result"
    }
   ],
   "source": [
    "math.factorial(10)"
   ]
  },
  {
   "cell_type": "code",
   "execution_count": 31,
   "id": "635fd1ca",
   "metadata": {},
   "outputs": [],
   "source": [
    "# help(math)"
   ]
  },
  {
   "cell_type": "code",
   "execution_count": 32,
   "id": "d4694703",
   "metadata": {},
   "outputs": [],
   "source": [
    "from math import *"
   ]
  },
  {
   "cell_type": "code",
   "execution_count": 33,
   "id": "cc1fff7f",
   "metadata": {},
   "outputs": [
    {
     "data": {
      "text/plain": [
       "3.1622776601683795"
      ]
     },
     "execution_count": 33,
     "metadata": {},
     "output_type": "execute_result"
    }
   ],
   "source": [
    "sqrt(10)"
   ]
  },
  {
   "cell_type": "code",
   "execution_count": 34,
   "id": "2cb208ef",
   "metadata": {},
   "outputs": [
    {
     "data": {
      "text/plain": [
       "120"
      ]
     },
     "execution_count": 34,
     "metadata": {},
     "output_type": "execute_result"
    }
   ],
   "source": [
    "factorial(5)"
   ]
  },
  {
   "cell_type": "code",
   "execution_count": 35,
   "id": "6891954c",
   "metadata": {},
   "outputs": [],
   "source": [
    "import math as m # METHOD 1"
   ]
  },
  {
   "cell_type": "code",
   "execution_count": 36,
   "id": "75596259",
   "metadata": {},
   "outputs": [
    {
     "data": {
      "text/plain": [
       "3.1622776601683795"
      ]
     },
     "execution_count": 36,
     "metadata": {},
     "output_type": "execute_result"
    }
   ],
   "source": [
    "m.sqrt(10)"
   ]
  },
  {
   "cell_type": "code",
   "execution_count": 37,
   "id": "81e8e45c",
   "metadata": {},
   "outputs": [
    {
     "data": {
      "text/plain": [
       "24"
      ]
     },
     "execution_count": 37,
     "metadata": {},
     "output_type": "execute_result"
    }
   ],
   "source": [
    "m.factorial(4)"
   ]
  },
  {
   "cell_type": "code",
   "execution_count": 43,
   "id": "554ee0d5",
   "metadata": {},
   "outputs": [],
   "source": [
    "from math import sqrt, factorial # METHOD 2"
   ]
  },
  {
   "cell_type": "code",
   "execution_count": 39,
   "id": "863f229e",
   "metadata": {},
   "outputs": [],
   "source": [
    "from functools import reduce"
   ]
  },
  {
   "cell_type": "code",
   "execution_count": 40,
   "id": "68f57cb1",
   "metadata": {},
   "outputs": [],
   "source": [
    "from math import sqrt as sq, factorial as ft"
   ]
  },
  {
   "cell_type": "code",
   "execution_count": 41,
   "id": "05cf9d87",
   "metadata": {},
   "outputs": [
    {
     "data": {
      "text/plain": [
       "2.23606797749979"
      ]
     },
     "execution_count": 41,
     "metadata": {},
     "output_type": "execute_result"
    }
   ],
   "source": [
    "sq(5)"
   ]
  },
  {
   "cell_type": "code",
   "execution_count": 42,
   "id": "946fce98",
   "metadata": {},
   "outputs": [
    {
     "data": {
      "text/plain": [
       "720"
      ]
     },
     "execution_count": 42,
     "metadata": {},
     "output_type": "execute_result"
    }
   ],
   "source": [
    "ft(6)"
   ]
  },
  {
   "cell_type": "code",
   "execution_count": 44,
   "id": "25578d8a",
   "metadata": {},
   "outputs": [],
   "source": [
    "import random"
   ]
  },
  {
   "cell_type": "code",
   "execution_count": 57,
   "id": "42e88823",
   "metadata": {},
   "outputs": [
    {
     "data": {
      "text/plain": [
       "10"
      ]
     },
     "execution_count": 57,
     "metadata": {},
     "output_type": "execute_result"
    }
   ],
   "source": [
    "random.randint(0,100)"
   ]
  },
  {
   "cell_type": "code",
   "execution_count": 58,
   "id": "0ebfdead",
   "metadata": {},
   "outputs": [
    {
     "data": {
      "text/plain": [
       "'\\nHOMEWORK - \\nIn a folder - \\n1. File named main.py\\n2. File named sorting.py\\n    - Bubble Sort\\n    - Selection Sort\\n    - Merge Sort\\n    - Insertion Sort\\n'"
      ]
     },
     "execution_count": 58,
     "metadata": {},
     "output_type": "execute_result"
    }
   ],
   "source": [
    "'''\n",
    "HOMEWORK - \n",
    "In a folder - \n",
    "1. File named main.py\n",
    "2. File named sorting.py\n",
    "    - Bubble Sort\n",
    "    - Selection Sort\n",
    "    - Merge Sort\n",
    "    - Insertion Sort\n",
    "'''"
   ]
  },
  {
   "cell_type": "code",
   "execution_count": null,
   "id": "e2416ad0",
   "metadata": {},
   "outputs": [],
   "source": []
  }
 ],
 "metadata": {
  "kernelspec": {
   "display_name": "Python 3 (ipykernel)",
   "language": "python",
   "name": "python3"
  },
  "language_info": {
   "codemirror_mode": {
    "name": "ipython",
    "version": 3
   },
   "file_extension": ".py",
   "mimetype": "text/x-python",
   "name": "python",
   "nbconvert_exporter": "python",
   "pygments_lexer": "ipython3",
   "version": "3.9.5"
  }
 },
 "nbformat": 4,
 "nbformat_minor": 5
}
