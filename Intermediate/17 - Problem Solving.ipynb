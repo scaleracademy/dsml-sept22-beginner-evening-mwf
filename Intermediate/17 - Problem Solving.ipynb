{
 "cells": [
  {
   "cell_type": "code",
   "execution_count": 1,
   "id": "e8177791",
   "metadata": {},
   "outputs": [
    {
     "name": "stdout",
     "output_type": "stream",
     "text": [
      "print statement!\n"
     ]
    }
   ],
   "source": [
    "print(\"print statement!\")"
   ]
  },
  {
   "cell_type": "code",
   "execution_count": 4,
   "id": "f6d35729",
   "metadata": {},
   "outputs": [
    {
     "data": {
      "text/plain": [
       "'\\nQuestion 1 - \\n\\ncout << \"print statement in C++!\"\\n\\nMake this work in python!\\n'"
      ]
     },
     "execution_count": 4,
     "metadata": {},
     "output_type": "execute_result"
    }
   ],
   "source": [
    "'''\n",
    "Question 1 - \n",
    "\n",
    "cout << \"print statement in C++!\"\n",
    "\n",
    "Make this work in python!\n",
    "'''"
   ]
  },
  {
   "cell_type": "code",
   "execution_count": 6,
   "id": "79f7fea1",
   "metadata": {},
   "outputs": [
    {
     "data": {
      "text/plain": [
       "10"
      ]
     },
     "execution_count": 6,
     "metadata": {},
     "output_type": "execute_result"
    }
   ],
   "source": [
    "5 << 1 # left shift operator"
   ]
  },
  {
   "cell_type": "code",
   "execution_count": 7,
   "id": "ad1edb18",
   "metadata": {},
   "outputs": [],
   "source": [
    "# def __lshift__"
   ]
  },
  {
   "cell_type": "code",
   "execution_count": 15,
   "id": "2d3264de",
   "metadata": {},
   "outputs": [],
   "source": [
    "class CppPrint:\n",
    "    def __lshift__(self, variable):\n",
    "        print(variable)"
   ]
  },
  {
   "cell_type": "code",
   "execution_count": 16,
   "id": "d73c9c93",
   "metadata": {},
   "outputs": [],
   "source": [
    "cout = CppPrint()"
   ]
  },
  {
   "cell_type": "code",
   "execution_count": 17,
   "id": "69665f8b",
   "metadata": {},
   "outputs": [
    {
     "name": "stdout",
     "output_type": "stream",
     "text": [
      "Hello\n"
     ]
    }
   ],
   "source": [
    "cout << \"Hello\"\n",
    "# CppPrint.__lshift__(cout, \"hello\")"
   ]
  },
  {
   "cell_type": "code",
   "execution_count": 14,
   "id": "3de82ba6",
   "metadata": {},
   "outputs": [
    {
     "data": {
      "text/plain": [
       "'\\nQuestion 2 - \\n\\ncout << \"hello\" << \"this\" << \"is\" << \"awesome\"\\n-> hello this is awesome\\n\\nNow make this work in python!\\n'"
      ]
     },
     "execution_count": 14,
     "metadata": {},
     "output_type": "execute_result"
    }
   ],
   "source": [
    "'''\n",
    "Question 2 - \n",
    "\n",
    "cout << \"hello\" << \"this\" << \"is\" << \"awesome\"\n",
    "-> hello this is awesome\n",
    "\n",
    "Now make this work in python!\n",
    "'''"
   ]
  },
  {
   "cell_type": "code",
   "execution_count": 19,
   "id": "bef6d328",
   "metadata": {},
   "outputs": [
    {
     "name": "stdout",
     "output_type": "stream",
     "text": [
      "Hello\n"
     ]
    },
    {
     "ename": "TypeError",
     "evalue": "unsupported operand type(s) for <<: 'NoneType' and 'str'",
     "output_type": "error",
     "traceback": [
      "\u001b[0;31m---------------------------------------------------------------------------\u001b[0m",
      "\u001b[0;31mTypeError\u001b[0m                                 Traceback (most recent call last)",
      "\u001b[0;32m/var/folders/nn/c52y0d3j0gq59dpsswchkt2r0000gn/T/ipykernel_4753/45934034.py\u001b[0m in \u001b[0;36m<module>\u001b[0;34m\u001b[0m\n\u001b[0;32m----> 1\u001b[0;31m \u001b[0mcout\u001b[0m \u001b[0;34m<<\u001b[0m \u001b[0;34m\"Hello\"\u001b[0m \u001b[0;34m<<\u001b[0m \u001b[0;34m\"there!\"\u001b[0m\u001b[0;34m\u001b[0m\u001b[0;34m\u001b[0m\u001b[0m\n\u001b[0m",
      "\u001b[0;31mTypeError\u001b[0m: unsupported operand type(s) for <<: 'NoneType' and 'str'"
     ]
    }
   ],
   "source": [
    "cout << \"Hello\" << \"there!\""
   ]
  },
  {
   "cell_type": "code",
   "execution_count": 32,
   "id": "4f987f8a",
   "metadata": {},
   "outputs": [],
   "source": [
    "class CppPrint:\n",
    "    def __lshift__(self, variable):\n",
    "        print(variable, end = \" \")\n",
    "        \n",
    "        return self"
   ]
  },
  {
   "cell_type": "code",
   "execution_count": 33,
   "id": "98e130b0",
   "metadata": {},
   "outputs": [],
   "source": [
    "cout = CppPrint()"
   ]
  },
  {
   "cell_type": "code",
   "execution_count": 34,
   "id": "79480877",
   "metadata": {},
   "outputs": [
    {
     "name": "stdout",
     "output_type": "stream",
     "text": [
      "This is MAGIC! "
     ]
    },
    {
     "data": {
      "text/plain": [
       "<__main__.CppPrint at 0x7fdd616f4940>"
      ]
     },
     "execution_count": 34,
     "metadata": {},
     "output_type": "execute_result"
    }
   ],
   "source": [
    "cout << \"This\" << \"is\" << \"MAGIC!\"\n",
    "# CppPrint.__lshift__(cout, \"This\") -> None\n",
    "# None << \"is\""
   ]
  },
  {
   "cell_type": "code",
   "execution_count": 36,
   "id": "dc66371f",
   "metadata": {},
   "outputs": [
    {
     "data": {
      "text/plain": [
       "'\\nQuestion 3 - \\n\\ncin >> random\\n`Take an input from user and store in vairable random.`\\n\\nNow make this work in python!\\n'"
      ]
     },
     "execution_count": 36,
     "metadata": {},
     "output_type": "execute_result"
    }
   ],
   "source": [
    "'''\n",
    "Question 3 - \n",
    "\n",
    "cin >> random\n",
    "`Take an input from user and store in vairable random.`\n",
    "\n",
    "Now make this work in python!\n",
    "'''"
   ]
  },
  {
   "cell_type": "code",
   "execution_count": null,
   "id": "123d031d",
   "metadata": {},
   "outputs": [],
   "source": []
  }
 ],
 "metadata": {
  "kernelspec": {
   "display_name": "Python 3 (ipykernel)",
   "language": "python",
   "name": "python3"
  },
  "language_info": {
   "codemirror_mode": {
    "name": "ipython",
    "version": 3
   },
   "file_extension": ".py",
   "mimetype": "text/x-python",
   "name": "python",
   "nbconvert_exporter": "python",
   "pygments_lexer": "ipython3",
   "version": "3.9.5"
  }
 },
 "nbformat": 4,
 "nbformat_minor": 5
}
